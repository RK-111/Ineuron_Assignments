{
 "cells": [
  {
   "cell_type": "code",
   "execution_count": null,
   "id": "e86ecbeb",
   "metadata": {},
   "outputs": [],
   "source": [
    "1. In the below elements which of them are values or an expression? eg:- values can be integer or string and expressions will be mathematical operators.\n",
    "* \n",
    "'hello'\n",
    "-87.8\n",
    "- \n",
    "/ \n",
    "+\n",
    "6 \n",
    "\n",
    "2. What is the difference between string and variable?\n",
    "\n",
    "3. Describe three different data types.\n",
    "\n",
    "4. What is an expression made up of? What do all expressions do?\n",
    "5. This assignment statements, like spam = 10. What is the difference between an expression and a statement?\n",
    "6. After running the following code, what does the variable bacon contain?\n",
    "bacon = 22\n",
    "bacon + 1\n",
    "\n",
    "7. What should the values of the following two terms be?\n",
    "'spam' + 'spamspam'\n",
    "'spam' * 3\n",
    "\n",
    "8. Why is eggs a valid variable name while 100 is invalid?\n",
    "9. What three functions can be used to get the integer, floating-point number, or string version of a value?\n",
    "10. Why does this expression cause an error? How can you fix it?\n",
    "'I have eaten ' + 99 + ' burritos.'\n",
    "\n",
    "\n"
   ]
  },
  {
   "cell_type": "code",
   "execution_count": null,
   "id": "6aa95779",
   "metadata": {},
   "outputs": [],
   "source": [
    "1. In the below elements which of them are values or an expression? eg:- values can be integer or string and expressions will be mathematical operators.\n",
    "\n",
    "Answer:    \n",
    "    \n",
    "*            - Expression\n",
    "'hello'      - String\n",
    "-87.8        - Integer\n",
    "-            - Expression\n",
    "/            - Expression\n",
    "+            - Expression\n",
    "6            - Integer"
   ]
  },
  {
   "cell_type": "code",
   "execution_count": null,
   "id": "f778badc",
   "metadata": {},
   "outputs": [],
   "source": [
    "2. What is the difference between string and variable?\n",
    "\n",
    "Answer : \n",
    "    \n",
    "String is basically A Date type of information which is in the form of characters which we bascially stores in a variable.\n",
    "A variable is a kind of storage of information in forms of Stings , Intergers , Float etc."
   ]
  },
  {
   "cell_type": "code",
   "execution_count": null,
   "id": "d1bbaaa5",
   "metadata": {},
   "outputs": [],
   "source": [
    "3. Describe three different data types.\n",
    "\n",
    "Answer : \n",
    "    Integers (Includes whole numbers)\n",
    "    String   (Alpha numberic characters)\n",
    "    Boolean  (True or False)\n",
    "    Float    (intergers with decimal number) \n",
    "    "
   ]
  },
  {
   "cell_type": "code",
   "execution_count": null,
   "id": "68edab52",
   "metadata": {},
   "outputs": [],
   "source": [
    "4. What is an expression made up of? What do all expressions do?\n",
    "\n",
    "Answer :\n",
    "    \n",
    "    Expression is made up of a particular syntax as per the progmaming language standards and it is made up variables ,\n",
    "    operators etc.Ecpressions is a relationship bold between the values."
   ]
  },
  {
   "cell_type": "code",
   "execution_count": null,
   "id": "c1985b94",
   "metadata": {},
   "outputs": [],
   "source": [
    "5. This assignment statements, like spam = 10. What is the difference between an expression and a statement?\n",
    "\n",
    "Answer : \n",
    "    \n",
    "    Expression basically consistes of the values and the operations that are going to help or execute a statement."
   ]
  },
  {
   "cell_type": "code",
   "execution_count": null,
   "id": "2cd08028",
   "metadata": {},
   "outputs": [],
   "source": [
    "6. After running the following code, what does the variable bacon contain?\n",
    "bacon = 22\n",
    "bacon + 1\n",
    "\n",
    "Answer : 23"
   ]
  },
  {
   "cell_type": "code",
   "execution_count": 1,
   "id": "70830b6e",
   "metadata": {},
   "outputs": [
    {
     "data": {
      "text/plain": [
       "23"
      ]
     },
     "execution_count": 1,
     "metadata": {},
     "output_type": "execute_result"
    }
   ],
   "source": [
    "bacon = 22\n",
    "bacon + 1 "
   ]
  },
  {
   "cell_type": "code",
   "execution_count": null,
   "id": "46150a06",
   "metadata": {},
   "outputs": [],
   "source": [
    "7. What should the values of the following two terms be?\n",
    "'spam' + 'spamspam'\n",
    "'spam' * 3\n",
    "\n",
    "Answer : 'spamspamspam'"
   ]
  },
  {
   "cell_type": "code",
   "execution_count": 2,
   "id": "feb3effc",
   "metadata": {},
   "outputs": [
    {
     "data": {
      "text/plain": [
       "'spamspamspam'"
      ]
     },
     "execution_count": 2,
     "metadata": {},
     "output_type": "execute_result"
    }
   ],
   "source": [
    "'spam' + 'spamspam'\n",
    "'spam' * 3"
   ]
  },
  {
   "cell_type": "code",
   "execution_count": null,
   "id": "35a42516",
   "metadata": {},
   "outputs": [],
   "source": [
    "8. Why is eggs a valid variable name while 100 is invalid?\n",
    "\n",
    "Answer : Because 100 is an integer and egg is a string and if we put 100 as a variable the system will stuck or throw syntax error."
   ]
  },
  {
   "cell_type": "code",
   "execution_count": null,
   "id": "ba2e4571",
   "metadata": {},
   "outputs": [],
   "source": [
    "9. What three functions can be used to get the integer, floating-point number, or string version of a value?\n",
    "\n",
    "Answer : \n",
    "    \n",
    "    Floating Point number : float()\n",
    "    String : str()\n",
    "    Integer : int()    \n"
   ]
  },
  {
   "cell_type": "code",
   "execution_count": null,
   "id": "aefabd48",
   "metadata": {},
   "outputs": [],
   "source": [
    "10. Why does this expression cause an error? How can you fix it?\n",
    "'I have eaten ' + 99 + ' burritos.'\n",
    "\n",
    "Answer : we cannot concate strings along with the numbers (integers value) , it may cause error always and for running that we have to\n",
    "         typecast it."
   ]
  },
  {
   "cell_type": "code",
   "execution_count": null,
   "id": "bcda598f",
   "metadata": {},
   "outputs": [],
   "source": []
  }
 ],
 "metadata": {
  "kernelspec": {
   "display_name": "Python 3 (ipykernel)",
   "language": "python",
   "name": "python3"
  },
  "language_info": {
   "codemirror_mode": {
    "name": "ipython",
    "version": 3
   },
   "file_extension": ".py",
   "mimetype": "text/x-python",
   "name": "python",
   "nbconvert_exporter": "python",
   "pygments_lexer": "ipython3",
   "version": "3.9.7"
  }
 },
 "nbformat": 4,
 "nbformat_minor": 5
}
